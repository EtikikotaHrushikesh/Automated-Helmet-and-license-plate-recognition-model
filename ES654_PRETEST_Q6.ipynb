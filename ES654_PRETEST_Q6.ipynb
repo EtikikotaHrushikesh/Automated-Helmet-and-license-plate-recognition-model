{
  "nbformat": 4,
  "nbformat_minor": 0,
  "metadata": {
    "colab": {
      "provenance": [],
      "authorship_tag": "ABX9TyPGoihLU1Oh9s2pt/FrnWoR",
      "include_colab_link": true
    },
    "kernelspec": {
      "name": "python3",
      "display_name": "Python 3"
    },
    "language_info": {
      "name": "python"
    }
  },
  "cells": [
    {
      "cell_type": "markdown",
      "metadata": {
        "id": "view-in-github",
        "colab_type": "text"
      },
      "source": [
        "<a href=\"https://colab.research.google.com/github/EtikikotaHrushikesh/Automated-Helmet-and-license-plate-recognition-model/blob/master/ES654_PRETEST_Q6.ipynb\" target=\"_parent\"><img src=\"https://colab.research.google.com/assets/colab-badge.svg\" alt=\"Open In Colab\"/></a>"
      ]
    },
    {
      "cell_type": "code",
      "execution_count": null,
      "metadata": {
        "id": "__IAmWVXyDRc"
      },
      "outputs": [],
      "source": [
        "\n",
        "import sympy as sp\n",
        "from sympy import Array\n",
        "from sympy import *\n",
        "from sympy import lambdify"
      ]
    },
    {
      "cell_type": "code",
      "source": [
        "a=Symbol('a')\n",
        "b=Symbol('b')\n",
        "alpha=Symbol('alpha')\n",
        "\n",
        "def test_f(a, b):\n",
        "    # define a test function of a,b\n",
        "    test_f=4*a**2 + 25*b**2 \n",
        "    return test_f"
      ],
      "metadata": {
        "id": "eYQFWEvAyMRf"
      },
      "execution_count": null,
      "outputs": []
    },
    {
      "cell_type": "code",
      "source": [
        "def deriv_matrix(f, a, b):\n",
        "    # define the matrix of derivatives\n",
        "    d1=diff(f(a,b), a, 1)\n",
        "    d2=diff(f(a,b), b, 1)\n",
        "    M=Matrix([d1,d2])\n",
        "    print(M)\n",
        "    return M"
      ],
      "metadata": {
        "id": "ewnxfZAiyUH1"
      },
      "execution_count": null,
      "outputs": []
    },
    {
      "cell_type": "code",
      "source": [
        "alpha=test_f(a,b)\n",
        "deriv_matrix(alpha,a,b)"
      ],
      "metadata": {
        "colab": {
          "base_uri": "https://localhost:8080/",
          "height": 304
        },
        "id": "UoqRBHh8yaS9",
        "outputId": "3b996175-64e3-41f7-e8ff-c8da714b71c1"
      },
      "execution_count": null,
      "outputs": [
        {
          "output_type": "error",
          "ename": "TypeError",
          "evalue": "ignored",
          "traceback": [
            "\u001b[0;31m---------------------------------------------------------------------------\u001b[0m",
            "\u001b[0;31mTypeError\u001b[0m                                 Traceback (most recent call last)",
            "\u001b[0;32m<ipython-input-5-e129036fa6e4>\u001b[0m in \u001b[0;36m<module>\u001b[0;34m\u001b[0m\n\u001b[1;32m      1\u001b[0m \u001b[0malpha\u001b[0m\u001b[0;34m=\u001b[0m\u001b[0mtest_f\u001b[0m\u001b[0;34m(\u001b[0m\u001b[0ma\u001b[0m\u001b[0;34m,\u001b[0m\u001b[0mb\u001b[0m\u001b[0;34m)\u001b[0m\u001b[0;34m\u001b[0m\u001b[0;34m\u001b[0m\u001b[0m\n\u001b[0;32m----> 2\u001b[0;31m \u001b[0mderiv_matrix\u001b[0m\u001b[0;34m(\u001b[0m\u001b[0malpha\u001b[0m\u001b[0;34m,\u001b[0m\u001b[0ma\u001b[0m\u001b[0;34m,\u001b[0m\u001b[0mb\u001b[0m\u001b[0;34m)\u001b[0m\u001b[0;34m\u001b[0m\u001b[0;34m\u001b[0m\u001b[0m\n\u001b[0m",
            "\u001b[0;32m<ipython-input-3-28899cfceb64>\u001b[0m in \u001b[0;36mderiv_matrix\u001b[0;34m(f, a, b)\u001b[0m\n\u001b[1;32m      1\u001b[0m \u001b[0;32mdef\u001b[0m \u001b[0mderiv_matrix\u001b[0m\u001b[0;34m(\u001b[0m\u001b[0mf\u001b[0m\u001b[0;34m,\u001b[0m \u001b[0ma\u001b[0m\u001b[0;34m,\u001b[0m \u001b[0mb\u001b[0m\u001b[0;34m)\u001b[0m\u001b[0;34m:\u001b[0m\u001b[0;34m\u001b[0m\u001b[0;34m\u001b[0m\u001b[0m\n\u001b[1;32m      2\u001b[0m     \u001b[0;31m# define the matrix of derivatives\u001b[0m\u001b[0;34m\u001b[0m\u001b[0;34m\u001b[0m\u001b[0;34m\u001b[0m\u001b[0m\n\u001b[0;32m----> 3\u001b[0;31m     \u001b[0md1\u001b[0m\u001b[0;34m=\u001b[0m\u001b[0mdiff\u001b[0m\u001b[0;34m(\u001b[0m\u001b[0mf\u001b[0m\u001b[0;34m(\u001b[0m\u001b[0ma\u001b[0m\u001b[0;34m,\u001b[0m\u001b[0mb\u001b[0m\u001b[0;34m)\u001b[0m\u001b[0;34m,\u001b[0m \u001b[0ma\u001b[0m\u001b[0;34m,\u001b[0m \u001b[0;36m1\u001b[0m\u001b[0;34m)\u001b[0m\u001b[0;34m\u001b[0m\u001b[0;34m\u001b[0m\u001b[0m\n\u001b[0m\u001b[1;32m      4\u001b[0m     \u001b[0md2\u001b[0m\u001b[0;34m=\u001b[0m\u001b[0mdiff\u001b[0m\u001b[0;34m(\u001b[0m\u001b[0mf\u001b[0m\u001b[0;34m(\u001b[0m\u001b[0ma\u001b[0m\u001b[0;34m,\u001b[0m\u001b[0mb\u001b[0m\u001b[0;34m)\u001b[0m\u001b[0;34m,\u001b[0m \u001b[0mb\u001b[0m\u001b[0;34m,\u001b[0m \u001b[0;36m1\u001b[0m\u001b[0;34m)\u001b[0m\u001b[0;34m\u001b[0m\u001b[0;34m\u001b[0m\u001b[0m\n\u001b[1;32m      5\u001b[0m     \u001b[0mM\u001b[0m\u001b[0;34m=\u001b[0m\u001b[0mMatrix\u001b[0m\u001b[0;34m(\u001b[0m\u001b[0;34m[\u001b[0m\u001b[0md1\u001b[0m\u001b[0;34m,\u001b[0m\u001b[0md2\u001b[0m\u001b[0;34m]\u001b[0m\u001b[0;34m)\u001b[0m\u001b[0;34m\u001b[0m\u001b[0;34m\u001b[0m\u001b[0m\n",
            "\u001b[0;31mTypeError\u001b[0m: 'Add' object is not callable"
          ]
        }
      ]
    },
    {
      "cell_type": "code",
      "source": [
        "from sympy import diff, sin, exp \n",
        "from sympy.abc import x,y \n",
        "expr=x*sin(x*x)+1 \n",
        "print(expr)"
      ],
      "metadata": {
        "colab": {
          "base_uri": "https://localhost:8080/"
        },
        "id": "eJZ807v90LS3",
        "outputId": "a2b0143c-4466-4f46-dadb-0fc160f85741"
      },
      "execution_count": null,
      "outputs": [
        {
          "output_type": "stream",
          "name": "stdout",
          "text": [
            "x*sin(x**2) + 1\n"
          ]
        }
      ]
    },
    {
      "cell_type": "code",
      "source": [
        "f=(x**2 * y) + ( y**3 * sin(x))\n",
        "f"
      ],
      "metadata": {
        "colab": {
          "base_uri": "https://localhost:8080/",
          "height": 38
        },
        "id": "NKa5ZJ4Z0Sjn",
        "outputId": "6a20a6e7-ca73-429f-ab87-37dbac971639"
      },
      "execution_count": null,
      "outputs": [
        {
          "output_type": "execute_result",
          "data": {
            "text/plain": [
              "x**2*y + y**3*sin(x)"
            ],
            "text/latex": "$\\displaystyle x^{2} y + y^{3} \\sin{\\left(x \\right)}$"
          },
          "metadata": {},
          "execution_count": 8
        }
      ]
    },
    {
      "cell_type": "code",
      "source": [
        "dif_x= diff(f,x)\n",
        "dif_x"
      ],
      "metadata": {
        "colab": {
          "base_uri": "https://localhost:8080/",
          "height": 38
        },
        "id": "SITgkdQA0pA-",
        "outputId": "41388785-054d-43eb-8150-f7019f598ff6"
      },
      "execution_count": null,
      "outputs": [
        {
          "output_type": "execute_result",
          "data": {
            "text/plain": [
              "2*x*y + y**3*cos(x)"
            ],
            "text/latex": "$\\displaystyle 2 x y + y^{3} \\cos{\\left(x \\right)}$"
          },
          "metadata": {},
          "execution_count": 9
        }
      ]
    },
    {
      "cell_type": "code",
      "source": [
        "dif_y= diff(f,y)\n",
        "dif_y"
      ],
      "metadata": {
        "colab": {
          "base_uri": "https://localhost:8080/",
          "height": 38
        },
        "id": "W-4QtQo906eE",
        "outputId": "637b2032-aa2b-44be-efbb-d24d7c20429e"
      },
      "execution_count": null,
      "outputs": [
        {
          "output_type": "execute_result",
          "data": {
            "text/plain": [
              "x**2 + 3*y**2*sin(x)"
            ],
            "text/latex": "$\\displaystyle x^{2} + 3 y^{2} \\sin{\\left(x \\right)}$"
          },
          "metadata": {},
          "execution_count": 10
        }
      ]
    },
    {
      "cell_type": "code",
      "source": [
        "#dif_x.subs(x,1).subs(y,1)\n",
        "dif_x.evalf(10, subs={x:1, y:1})\n",
        "dif_y.evalf(10, subs={x:1, y:1})"
      ],
      "metadata": {
        "colab": {
          "base_uri": "https://localhost:8080/",
          "height": 37
        },
        "id": "g_tK1nws1uVo",
        "outputId": "f1cd480a-daed-41f2-bc1b-f749434fab32"
      },
      "execution_count": null,
      "outputs": [
        {
          "output_type": "execute_result",
          "data": {
            "text/plain": [
              "3.524412954"
            ],
            "text/latex": "$\\displaystyle 3.524412954$"
          },
          "metadata": {},
          "execution_count": 20
        }
      ]
    },
    {
      "cell_type": "code",
      "source": [
        "#input = jnp.array([[0, 1], [2.0, 0.0], [1, 1]])\n",
        "\n",
        "\n",
        "a1 = Array([[0, 1], [2.0, 0.0], [1, 1]])\n",
        "for v in a1:\n",
        "  print(\" Gradient Function using sympy: \", [dif_x.evalf(10, subs={x:v[0], y:v[1]}) , dif_y.evalf(10, subs={x:v[0], y:v[1]})])"
      ],
      "metadata": {
        "colab": {
          "base_uri": "https://localhost:8080/"
        },
        "id": "GZFHCIti1Ay6",
        "outputId": "d94eeda6-a6e3-4809-f136-e1bbbabb6c3b"
      },
      "execution_count": null,
      "outputs": [
        {
          "output_type": "stream",
          "name": "stdout",
          "text": [
            " Gradient Function using sympy:  [1.000000000, 0]\n",
            " Gradient Function using sympy:  [0, 4.000000000]\n",
            " Gradient Function using sympy:  [2.540302306, 3.524412954]\n"
          ]
        }
      ]
    }
  ]
}